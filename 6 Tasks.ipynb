{
 "cells": [
  {
   "cell_type": "code",
   "execution_count": 3,
   "id": "daa5f81a-7c9d-4e7e-ad3a-bc9bbd8ebb48",
   "metadata": {},
   "outputs": [
    {
     "name": "stdin",
     "output_type": "stream",
     "text": [
      "please enter the number of hours: 2\n"
     ]
    },
    {
     "name": "stdout",
     "output_type": "stream",
     "text": [
      "7200\n"
     ]
    }
   ],
   "source": [
    "def convert(x):\n",
    "    return x*3600\n",
    "\n",
    "hours=int(input(\"please enter the number of hours:\"))\n",
    "print(convert(hours))"
   ]
  },
  {
   "cell_type": "code",
   "execution_count": 10,
   "id": "33972f45-b58f-472d-b2e1-941d33918512",
   "metadata": {},
   "outputs": [
    {
     "name": "stdout",
     "output_type": "stream",
     "text": [
      "[25, 49, 64, 81, 100, 81, 144]\n"
     ]
    }
   ],
   "source": [
    "list1=[5,7,8,9,10,9,12]\n",
    "list2=[]\n",
    "for i in list1:\n",
    "    list2.append(i**2)\n",
    "print(list2)"
   ]
  },
  {
   "cell_type": "code",
   "execution_count": 17,
   "id": "ca894174-79cd-46dd-8392-2ca59208e82d",
   "metadata": {},
   "outputs": [
    {
     "name": "stdin",
     "output_type": "stream",
     "text": [
      "enter string1: hello\n",
      "enter string2: friend\n"
     ]
    },
    {
     "name": "stdout",
     "output_type": "stream",
     "text": [
      "hdenleliorf\n"
     ]
    }
   ],
   "source": [
    "def merged_strings(s1,s2): \n",
    "    res=\"\" \n",
    "    len1=len(s1)\n",
    "    len2=len(s2)\n",
    "    minlen=min(len1,len2)\n",
    "    \n",
    "    for i in range(minlen):\n",
    "        res+=s1[i]+s2[-(i+1)]\n",
    "    if len1>minlen:\n",
    "        res+=s1[minlen:]\n",
    "    if len2>minlen:\n",
    "        res+=s2[:len2-minlen][::-1]\n",
    "    return res\n",
    "  \n",
    "s1=input(\"enter string1:\")\n",
    "s2=input(\"enter string2:\")\n",
    "print(merged_strings(s1,s2))\n",
    "    "
   ]
  },
  {
   "cell_type": "code",
   "execution_count": 28,
   "id": "a9470ce5-96e5-4a7d-85c0-982f693b7442",
   "metadata": {},
   "outputs": [
    {
     "name": "stdout",
     "output_type": "stream",
     "text": [
      "Key with minimum value: conversation\n"
     ]
    }
   ],
   "source": [
    "word_freq = {\n",
    "    'love': 25,\n",
    "    'conversation': 1,\n",
    "    'every': 6,\n",
    "    \"we're\": 1,\n",
    "    'plate': 1,\n",
    "    'sour': 1,\n",
    "    'jukebox': 1,\n",
    "    'now': 11\n",
    "}\n",
    "min_key=min(word_freq, key=word_freq.get)\n",
    "print(\"Key with minimum value:\",min_key)\n"
   ]
  },
  {
   "cell_type": "code",
   "execution_count": null,
   "id": "7d00eee1-13e4-4753-a41c-b0c34c243630",
   "metadata": {},
   "outputs": [],
   "source": [
    "n=int(input(\"Enter number of terms: \"))\n",
    "term=0\n",
    "total = 0\n",
    "\n",
    "for i in range(1, n + 1):\n",
    "    term = term * 10 + 1  # builds 1, 11, 111, ...\n",
    "    total += term\n",
    "\n",
    "print(\"Sum of the series:\", total)\n"
   ]
  }
 ],
 "metadata": {
  "kernelspec": {
   "display_name": "Python 3 (ipykernel)",
   "language": "python",
   "name": "python3"
  },
  "language_info": {
   "codemirror_mode": {
    "name": "ipython",
    "version": 3
   },
   "file_extension": ".py",
   "mimetype": "text/x-python",
   "name": "python",
   "nbconvert_exporter": "python",
   "pygments_lexer": "ipython3",
   "version": "3.11.7"
  }
 },
 "nbformat": 4,
 "nbformat_minor": 5
}
