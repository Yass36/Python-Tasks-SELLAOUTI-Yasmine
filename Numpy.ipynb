{
 "cells": [
  {
   "cell_type": "code",
   "execution_count": 1,
   "id": "11a16f65-0db2-4397-8ffb-85c88a7a2a84",
   "metadata": {},
   "outputs": [],
   "source": [
    "import numpy as np\n"
   ]
  },
  {
   "cell_type": "code",
   "execution_count": 2,
   "id": "79726f38-d721-4bfd-9416-e099de329748",
   "metadata": {},
   "outputs": [
    {
     "name": "stdout",
     "output_type": "stream",
     "text": [
      "NumPy version: 1.26.4\n"
     ]
    }
   ],
   "source": [
    "print(\"NumPy version:\", np.__version__)\n"
   ]
  },
  {
   "cell_type": "code",
   "execution_count": 5,
   "id": "c59c377d-9273-4678-adeb-30d03f37949b",
   "metadata": {},
   "outputs": [
    {
     "name": "stdout",
     "output_type": "stream",
     "text": [
      "random sample1  [[[0.89084155 0.25992527 0.08471626 0.20639439 0.37341581]\n",
      "  [0.90624963 0.73244324 0.74021007 0.05791341 0.38041952]\n",
      "  [0.61259627 0.80746634 0.7354923  0.23249324 0.4292342 ]]\n",
      "\n",
      " [[0.63124601 0.3234701  0.80895147 0.7445844  0.76383097]\n",
      "  [0.94715236 0.41632143 0.748096   0.63375184 0.94642294]\n",
      "  [0.06559434 0.20286793 0.97108681 0.97824899 0.28907421]]]\n"
     ]
    }
   ],
   "source": [
    "a=np.random.random_sample((2, 3, 5))\n",
    "print(\"random sample1 \", a)\n"
   ]
  },
  {
   "cell_type": "code",
   "execution_count": 6,
   "id": "540cf5dc-16ad-4dc6-b0c7-52c1c9eadb29",
   "metadata": {},
   "outputs": [
    {
     "name": "stdout",
     "output_type": "stream",
     "text": [
      "random sample2 [[[0.04879938 0.8816601  0.52167798 0.43258687 0.58110289]\n",
      "  [0.51112103 0.51057735 0.63252816 0.09006373 0.95485769]\n",
      "  [0.25763251 0.24672132 0.2328455  0.35673491 0.12226561]]\n",
      "\n",
      " [[0.44277967 0.10389193 0.16665674 0.90423591 0.05722737]\n",
      "  [0.14037744 0.62741477 0.66579918 0.22797568 0.52202754]\n",
      "  [0.62631533 0.59917181 0.1817907  0.28893768 0.63997253]]]\n"
     ]
    }
   ],
   "source": [
    "a=np.random.rand(2, 3, 5)\n",
    "print(\"random sample2\", a)\n"
   ]
  },
  {
   "cell_type": "code",
   "execution_count": 7,
   "id": "6849aee9-4cce-45e4-8c1f-3a488cbf87bd",
   "metadata": {},
   "outputs": [
    {
     "name": "stdout",
     "output_type": "stream",
     "text": [
      "random sample3 [[[0.11847599 0.30081306 0.32424434 0.25827186 0.21046387]\n",
      "  [0.63986525 0.30757577 0.40479031 0.41520298 0.54008903]\n",
      "  [0.2390156  0.91602004 0.2128974  0.65152574 0.50137628]]\n",
      "\n",
      " [[0.22384821 0.71960211 0.95866065 0.72328603 0.6793218 ]\n",
      "  [0.74072741 0.96630958 0.77606002 0.74340292 0.91053835]\n",
      "  [0.60901639 0.05014538 0.84614956 0.23043387 0.98412074]]]\n"
     ]
    }
   ],
   "source": [
    "a=np.random.uniform(low=0.0, high=1.0, size=(2, 3, 5))\n",
    "print(\"random sample3\", a)\n"
   ]
  },
  {
   "cell_type": "code",
   "execution_count": 9,
   "id": "cbc487be-e986-4415-bc83-4aee874191fc",
   "metadata": {},
   "outputs": [
    {
     "name": "stdout",
     "output_type": "stream",
     "text": [
      "[[[1. 1. 1.]\n",
      "  [1. 1. 1.]]\n",
      "\n",
      " [[1. 1. 1.]\n",
      "  [1. 1. 1.]]\n",
      "\n",
      " [[1. 1. 1.]\n",
      "  [1. 1. 1.]]\n",
      "\n",
      " [[1. 1. 1.]\n",
      "  [1. 1. 1.]]\n",
      "\n",
      " [[1. 1. 1.]\n",
      "  [1. 1. 1.]]]\n"
     ]
    }
   ],
   "source": [
    "b=np.ones((5, 2, 3))\n",
    "print(b)\n"
   ]
  },
  {
   "cell_type": "code",
   "execution_count": 11,
   "id": "d101a89d-fbd9-4b09-bac6-d2790ec5b098",
   "metadata": {},
   "outputs": [
    {
     "name": "stdout",
     "output_type": "stream",
     "text": [
      "same size\n"
     ]
    }
   ],
   "source": [
    "if a.size==b.size:\n",
    "    print(\"same size\")\n",
    "else:\n",
    "    print(\"NOT the same size\")\n"
   ]
  },
  {
   "cell_type": "code",
   "execution_count": 12,
   "id": "b999d84b-5938-4621-9f59-f6a300f857f8",
   "metadata": {},
   "outputs": [
    {
     "name": "stdout",
     "output_type": "stream",
     "text": [
      "Size of a: 30\n",
      "Size of b: 30\n"
     ]
    }
   ],
   "source": [
    "#No,because a and b have diff dimensions"
   ]
  },
  {
   "cell_type": "code",
   "execution_count": 13,
   "id": "d53415ec-221f-4505-99ad-e01c4692cede",
   "metadata": {},
   "outputs": [
    {
     "name": "stdout",
     "output_type": "stream",
     "text": [
      "[[[1. 1. 1. 1. 1.]\n",
      "  [1. 1. 1. 1. 1.]\n",
      "  [1. 1. 1. 1. 1.]]\n",
      "\n",
      " [[1. 1. 1. 1. 1.]\n",
      "  [1. 1. 1. 1. 1.]\n",
      "  [1. 1. 1. 1. 1.]]]\n"
     ]
    }
   ],
   "source": [
    "c=b.transpose((1, 2, 0))  \n",
    "print(c)\n"
   ]
  },
  {
   "cell_type": "code",
   "execution_count": 16,
   "id": "453a8ffe-9571-4935-a0bb-35989bb1b371",
   "metadata": {},
   "outputs": [],
   "source": [
    "d=a+c  \n",
    "#Because both a and c now have the same shape: (2, 3, 5)"
   ]
  },
  {
   "cell_type": "code",
   "execution_count": 17,
   "id": "881b0dea-1bb4-4a22-b534-bae0ac7c957a",
   "metadata": {},
   "outputs": [
    {
     "name": "stdout",
     "output_type": "stream",
     "text": [
      "a [[[0.11847599 0.30081306 0.32424434 0.25827186 0.21046387]\n",
      "  [0.63986525 0.30757577 0.40479031 0.41520298 0.54008903]\n",
      "  [0.2390156  0.91602004 0.2128974  0.65152574 0.50137628]]\n",
      "\n",
      " [[0.22384821 0.71960211 0.95866065 0.72328603 0.6793218 ]\n",
      "  [0.74072741 0.96630958 0.77606002 0.74340292 0.91053835]\n",
      "  [0.60901639 0.05014538 0.84614956 0.23043387 0.98412074]]]\n",
      "d [[[1.11847599 1.30081306 1.32424434 1.25827186 1.21046387]\n",
      "  [1.63986525 1.30757577 1.40479031 1.41520298 1.54008903]\n",
      "  [1.2390156  1.91602004 1.2128974  1.65152574 1.50137628]]\n",
      "\n",
      " [[1.22384821 1.71960211 1.95866065 1.72328603 1.6793218 ]\n",
      "  [1.74072741 1.96630958 1.77606002 1.74340292 1.91053835]\n",
      "  [1.60901639 1.05014538 1.84614956 1.23043387 1.98412074]]]\n"
     ]
    }
   ],
   "source": [
    "print(\"a\",a)\n",
    "print(\"d\",d)\n",
    "#Since c has all values of 1, and d = a + c, so each value in d is a + 1."
   ]
  },
  {
   "cell_type": "code",
   "execution_count": 18,
   "id": "f247aea7-ea0d-4345-a84f-56c6f1fb531e",
   "metadata": {},
   "outputs": [],
   "source": [
    "e=a*c\n"
   ]
  },
  {
   "cell_type": "code",
   "execution_count": 20,
   "id": "f51c995b-9349-416e-b59a-b1f0f758ee15",
   "metadata": {},
   "outputs": [
    {
     "name": "stdout",
     "output_type": "stream",
     "text": [
      "egal ou pas?: True\n"
     ]
    }
   ],
   "source": [
    "print(\"egal ou pas?:\", np.array_equal(e, a))\n",
    "#e equals a because c is an identity matricx  and a * 1 = a for all elements"
   ]
  },
  {
   "cell_type": "code",
   "execution_count": 21,
   "id": "9e597a41-5081-4bad-a66e-7e4cc5c27633",
   "metadata": {},
   "outputs": [
    {
     "name": "stdout",
     "output_type": "stream",
     "text": [
      "Max 1.984120737961781\n",
      "Min 1.0501453794842588\n",
      "Mean 1.5400750178108393\n"
     ]
    }
   ],
   "source": [
    "max=d.max()\n",
    "min=d.min()\n",
    "mean=d.mean()\n",
    "\n",
    "print(\"Max\", max)\n",
    "print(\"Min\", min)\n",
    "print(\"Mean\", mean)\n"
   ]
  },
  {
   "cell_type": "code",
   "execution_count": 22,
   "id": "5c0e2173-45cf-45b1-aaa1-808ffd4ed022",
   "metadata": {},
   "outputs": [],
   "source": [
    "f=np.empty(d.shape)"
   ]
  },
  {
   "cell_type": "code",
   "execution_count": 25,
   "id": "bc238626-81bd-4e49-951a-d83ef15e98f3",
   "metadata": {},
   "outputs": [],
   "source": [
    "for i in range(d.shape[0]):      \n",
    "    for j in range(d.shape[1]): \n",
    "        for k in range(d.shape[2]): \n",
    "            value=d[i][j][k]\n",
    "            if value==min:\n",
    "                f[i][j][k]=0\n",
    "            elif value==max:\n",
    "                f[i][j][k]=100\n",
    "            elif value == mean:\n",
    "                f[i][j][k]=50\n",
    "            elif min<value<mean:\n",
    "                f[i][j][k]=25\n",
    "            elif mean<value<max:\n",
    "                f[i][j][k] = 75\n"
   ]
  },
  {
   "cell_type": "code",
   "execution_count": 26,
   "id": "53c980c2-892e-48b0-82d1-7e80dc53e8a7",
   "metadata": {},
   "outputs": [
    {
     "name": "stdout",
     "output_type": "stream",
     "text": [
      "d [[[1.11847599 1.30081306 1.32424434 1.25827186 1.21046387]\n",
      "  [1.63986525 1.30757577 1.40479031 1.41520298 1.54008903]\n",
      "  [1.2390156  1.91602004 1.2128974  1.65152574 1.50137628]]\n",
      "\n",
      " [[1.22384821 1.71960211 1.95866065 1.72328603 1.6793218 ]\n",
      "  [1.74072741 1.96630958 1.77606002 1.74340292 1.91053835]\n",
      "  [1.60901639 1.05014538 1.84614956 1.23043387 1.98412074]]]\n",
      "f [[[ 25.  25.  25.  25.  25.]\n",
      "  [ 75.  25.  25.  25.  75.]\n",
      "  [ 25.  75.  25.  75.  25.]]\n",
      "\n",
      " [[ 25.  75.  75.  75.  75.]\n",
      "  [ 75.  75.  75.  75.  75.]\n",
      "  [ 75.   0.  75.  25. 100.]]]\n"
     ]
    }
   ],
   "source": [
    "print(\"d\", d)\n",
    "print(\"f\", f)\n"
   ]
  },
  {
   "cell_type": "code",
   "execution_count": 28,
   "id": "7b57564b-f2e0-48fb-9bc9-2f06158ad742",
   "metadata": {},
   "outputs": [
    {
     "name": "stdout",
     "output_type": "stream",
     "text": [
      "[[['B' 'B' 'B' 'B' 'B']\n",
      "  ['D' 'B' 'B' 'B' 'D']\n",
      "  ['B' 'D' 'B' 'D' 'B']]\n",
      "\n",
      " [['B' 'D' 'D' 'D' 'D']\n",
      "  ['D' 'D' 'D' 'D' 'D']\n",
      "  ['D' 'A' 'D' 'B' 'E']]]\n"
     ]
    }
   ],
   "source": [
    "f2=np.empty(d.shape, dtype=object)\n",
    "for i in range(d.shape[0]):\n",
    "    for j in range(d.shape[1]):\n",
    "        for k in range(d.shape[2]):\n",
    "            value=d[i][j][k]\n",
    "            if value==min:\n",
    "                f2[i][j][k]='A'\n",
    "            elif value==max:\n",
    "                f2[i][j][k]='E'\n",
    "            elif value==mean:\n",
    "                f2[i][j][k]='C'\n",
    "            elif min<value<mean:\n",
    "                f2[i][j][k]='B'\n",
    "            elif mean<value<max:\n",
    "                f2[i][j][k]='D'\n",
    "print(f2)\n"
   ]
  },
  {
   "cell_type": "code",
   "execution_count": null,
   "id": "d2f7ba85-9819-4344-afbe-02be2e8e56c0",
   "metadata": {},
   "outputs": [],
   "source": []
  }
 ],
 "metadata": {
  "kernelspec": {
   "display_name": "Python 3 (ipykernel)",
   "language": "python",
   "name": "python3"
  },
  "language_info": {
   "codemirror_mode": {
    "name": "ipython",
    "version": 3
   },
   "file_extension": ".py",
   "mimetype": "text/x-python",
   "name": "python",
   "nbconvert_exporter": "python",
   "pygments_lexer": "ipython3",
   "version": "3.11.7"
  }
 },
 "nbformat": 4,
 "nbformat_minor": 5
}
