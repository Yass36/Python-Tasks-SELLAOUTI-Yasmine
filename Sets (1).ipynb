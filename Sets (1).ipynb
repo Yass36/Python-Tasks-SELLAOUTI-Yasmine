{
 "cells": [
  {
   "cell_type": "code",
   "execution_count": 34,
   "id": "185d9527-87ef-410c-bb91-f3dd548d7459",
   "metadata": {},
   "outputs": [
    {
     "name": "stdout",
     "output_type": "stream",
     "text": [
      "sample_list_1: [77, 54, 34, 5, 53, 93, 69, 27, 14, 79, 18, 100, 89, 3, 88, 21, 51, 74, 32, 41, 96, 52, 38, 49, 63, 7, 58, 35, 1, 47, 66, 29, 87, 43, 22, 9, 98, 11, 80, 81, 37, 82, 71, 76, 70, 20, 46, 60, 39, 72, 75, 83, 94, 12, 30, 62, 95, 40, 23, 42, 17, 25, 16, 24, 57, 0, 44, 64, 26, 61, 33, 99, 48, 84, 45, 73, 65, 97, 13, 8]\n"
     ]
    }
   ],
   "source": [
    "import random\n",
    "sample_list_1=random.sample(range(0, 101), 80)\n",
    "print(\"sample_list_1:\",sample_list_1)\n"
   ]
  },
  {
   "cell_type": "code",
   "execution_count": 35,
   "id": "1a03e5bb-cce8-4eff-8879-de1bf6543396",
   "metadata": {},
   "outputs": [
    {
     "name": "stdout",
     "output_type": "stream",
     "text": [
      "Length of set1: 80\n"
     ]
    }
   ],
   "source": [
    "set1=set(sample_list_1)\n",
    "print(\"Length of set1:\",len(set1))\n"
   ]
  },
  {
   "cell_type": "code",
   "execution_count": 36,
   "id": "1fb562ab-e1bc-4eb3-940b-8e7757d1b45d",
   "metadata": {},
   "outputs": [
    {
     "name": "stdout",
     "output_type": "stream",
     "text": [
      "sample_list_2: [45, 76, 35, 18, 43, 39, 64, 45, 31, 43, 66, 45, 5, 1, 83, 84, 7, 45, 72, 33, 61, 39, 97, 78, 58, 63, 47, 34, 53, 60, 82, 13, 30, 55, 94, 90, 30, 49, 81, 81, 74, 6, 100, 40, 99, 1, 14, 0, 27, 42, 28, 87, 98, 5, 77, 71, 18, 27, 94, 87, 17, 11, 37, 24, 28, 64, 55, 100, 37, 70, 11, 65, 95, 92, 28, 71, 70, 56, 82, 13]\n",
      "Length of sample_list_2: 80\n"
     ]
    }
   ],
   "source": [
    "sample_list_2=[]\n",
    "for _ in range(80):\n",
    "    sample_list_2.append(random.randint(0, 100))\n",
    "print(\"sample_list_2:\",sample_list_2)\n",
    "print(\"Length of sample_list_2:\",len(sample_list_2))\n"
   ]
  },
  {
   "cell_type": "code",
   "execution_count": 37,
   "id": "a2f00c6d-700e-4775-b31e-c810adc5013d",
   "metadata": {},
   "outputs": [
    {
     "name": "stdout",
     "output_type": "stream",
     "text": [
      "Length of set2: 56\n"
     ]
    }
   ],
   "source": [
    "set2=set(sample_list_2)\n",
    "print(\"Length of set2:\",len(set2))\n"
   ]
  },
  {
   "cell_type": "code",
   "execution_count": 38,
   "id": "7c2350ed-b01f-4cd7-a076-dbe31e0f6a2b",
   "metadata": {},
   "outputs": [
    {
     "name": "stdout",
     "output_type": "stream",
     "text": [
      "set3:\n",
      "{3, 8, 9, 12, 16, 20, 21, 22, 23, 25, 26, 29, 32, 38, 41, 44, 46, 48, 51, 52, 54, 57, 62, 69, 73, 75, 79, 80, 88, 89, 93, 96}\n",
      "length of set3: 32\n"
     ]
    }
   ],
   "source": [
    "set3=set1-set2\n",
    "print(\"set3:\")\n",
    "print(set3)\n",
    "print(\"length of set3:\",len(set3))\n"
   ]
  },
  {
   "cell_type": "code",
   "execution_count": 39,
   "id": "3569cd64-68b8-417e-bf64-b10e62319514",
   "metadata": {},
   "outputs": [
    {
     "name": "stdout",
     "output_type": "stream",
     "text": [
      "set4:\n",
      "{6, 78, 92, 55, 56, 90, 28, 31}\n",
      "length of  set4: 8\n"
     ]
    }
   ],
   "source": [
    "set4 = set2 - set1\n",
    "print(\"set4:\")\n",
    "print(set4)\n",
    "print(\"length of  set4:\",len(set4))\n"
   ]
  },
  {
   "cell_type": "code",
   "execution_count": 40,
   "id": "c892dbdc-9c9c-4768-ac9f-502ad43278ea",
   "metadata": {},
   "outputs": [
    {
     "name": "stdout",
     "output_type": "stream",
     "text": [
      "set5:\n",
      "{0, 1, 5, 7, 11, 13, 14, 17, 18, 24, 27, 30, 33, 34, 35, 37, 39, 40, 42, 43, 45, 47, 49, 53, 58, 60, 61, 63, 64, 65, 66, 70, 71, 72, 74, 76, 77, 81, 82, 83, 84, 87, 94, 95, 97, 98, 99, 100}\n",
      "length of set 5 48\n"
     ]
    }
   ],
   "source": [
    "set5=set1&set2  \n",
    "print(\"set5:\")\n",
    "print(set5)\n",
    "print(\"length of set 5\",len(set5))\n"
   ]
  },
  {
   "cell_type": "code",
   "execution_count": 41,
   "id": "34bfdf72-228d-4829-b082-04891d6de089",
   "metadata": {},
   "outputs": [
    {
     "ename": "SyntaxError",
     "evalue": "invalid syntax (3121061293.py, line 6)",
     "output_type": "error",
     "traceback": [
      "\u001b[1;36m  Cell \u001b[1;32mIn[41], line 6\u001b[1;36m\u001b[0m\n\u001b[1;33m    assert len(set1)==len(set3)+len(set5),\u001b[0m\n\u001b[1;37m                                           ^\u001b[0m\n\u001b[1;31mSyntaxError\u001b[0m\u001b[1;31m:\u001b[0m invalid syntax\n"
     ]
    }
   ],
   "source": [
    "print(\"len(set1):\",len(set1))\n",
    "print(\"len(set2):\",len(set2))\n",
    "print(\"len(set3):\",len(set3))\n",
    "print(\"len(set4):\",len(set4))\n",
    "print(\"len(set5):\",len(set5))\n",
    "assert len(set1)==len(set3)+len(set5), \"Mismatch\"\n",
    "assert len(set2)==len(set4)+len(set5), \n",
    "print(\"valid\")\n"
   ]
  },
  {
   "cell_type": "code",
   "execution_count": null,
   "id": "f0afdd35-c856-4f05-b189-b4490e3b0df1",
   "metadata": {},
   "outputs": [],
   "source": [
    "set6=set()\n",
    "set6.update(set3)\n",
    "set6.update(set5)\n",
    "print(set6)"
   ]
  },
  {
   "cell_type": "code",
   "execution_count": null,
   "id": "d4e4c116-4b54-4d4f-8dfc-fc1d7b240588",
   "metadata": {},
   "outputs": [],
   "source": [
    "if set1==set6:\n",
    "    print(\"equal\")\n",
    "else:\n",
    "    print(\"NOT equal.\")\n"
   ]
  },
  {
   "cell_type": "code",
   "execution_count": null,
   "id": "58e791f5-268f-4c97-91f2-6f2e913775af",
   "metadata": {},
   "outputs": [],
   "source": [
    "print(set2.issubset(set1))\n",
    "print(set3.issubset(set1))\n"
   ]
  },
  {
   "cell_type": "code",
   "execution_count": null,
   "id": "16c4753e-5971-4406-bc94-0a22a23a0cf5",
   "metadata": {},
   "outputs": [],
   "source": [
    "agg1=set3.union(set4).union(set5)\n",
    "agg2=set1.union(set2)\n",
    "print(agg1 == agg2)\n"
   ]
  },
  {
   "cell_type": "code",
   "execution_count": null,
   "id": "c62703d3-65fb-43af-8aba-26e2767c197f",
   "metadata": {},
   "outputs": [],
   "source": [
    "removed_element=set1.pop()\n",
    "print(removed_element)\n"
   ]
  },
  {
   "cell_type": "code",
   "execution_count": null,
   "id": "71ffccd0-de1d-4a67-87d5-4bf2d256e5e8",
   "metadata": {},
   "outputs": [],
   "source": [
    "list_to_remove=[1, 9, 11, 19, 21, 29, 31, 39, 41, 49, 51, 59, 61, 69, 71, 79, 81, 89, 91, 99]\n",
    "for item in list_to_remove:\n",
    "    set1.discard(item) \n"
   ]
  },
  {
   "cell_type": "code",
   "execution_count": null,
   "id": "c9d53b64-79bf-452a-9ccb-36fd1ca7e392",
   "metadata": {},
   "outputs": [],
   "source": []
  }
 ],
 "metadata": {
  "kernelspec": {
   "display_name": "Python 3 (ipykernel)",
   "language": "python",
   "name": "python3"
  },
  "language_info": {
   "codemirror_mode": {
    "name": "ipython",
    "version": 3
   },
   "file_extension": ".py",
   "mimetype": "text/x-python",
   "name": "python",
   "nbconvert_exporter": "python",
   "pygments_lexer": "ipython3",
   "version": "3.11.7"
  }
 },
 "nbformat": 4,
 "nbformat_minor": 5
}
