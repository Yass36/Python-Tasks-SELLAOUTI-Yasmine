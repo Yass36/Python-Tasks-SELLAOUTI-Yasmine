{
 "cells": [
  {
   "cell_type": "code",
   "execution_count": 1,
   "id": "ea7776aa-adb6-4b76-bfb4-54a167f9a383",
   "metadata": {},
   "outputs": [
    {
     "name": "stdout",
     "output_type": "stream",
     "text": [
      "<class 'float'>\n",
      "<class 'str'>\n",
      "<class 'str'>\n",
      "<class 'bool'>\n",
      "<class 'str'>\n",
      "<class 'int'>\n"
     ]
    }
   ],
   "source": [
    "x1 = 1.1\n",
    "x2 = \"Monday\"\n",
    "x3 = \"1.1\"\n",
    "x4 = True\n",
    "x5 = \"True\"\n",
    "x6 = -1\n",
    "\n",
    "print(type(x1))  \n",
    "print(type(x2))  \n",
    "print(type(x3)) \n",
    "print(type(x4))  \n",
    "print(type(x5))  \n",
    "print(type(x6)) \n"
   ]
  },
  {
   "cell_type": "code",
   "execution_count": 2,
   "id": "88441ea8-8ad3-41cd-8bff-4101da885fa5",
   "metadata": {},
   "outputs": [
    {
     "ename": "TypeError",
     "evalue": "unsupported operand type(s) for -: 'float' and 'str'",
     "output_type": "error",
     "traceback": [
      "\u001b[1;31m---------------------------------------------------------------------------\u001b[0m",
      "\u001b[1;31mTypeError\u001b[0m                                 Traceback (most recent call last)",
      "Cell \u001b[1;32mIn[2], line 1\u001b[0m\n\u001b[1;32m----> 1\u001b[0m \u001b[38;5;28mprint\u001b[39m(x1\u001b[38;5;241m-\u001b[39mx2)\n",
      "\u001b[1;31mTypeError\u001b[0m: unsupported operand type(s) for -: 'float' and 'str'"
     ]
    }
   ],
   "source": [
    "print(x1-x2)"
   ]
  },
  {
   "cell_type": "code",
   "execution_count": 3,
   "id": "c27911b8-5b14-4ca6-9bb3-8163e9af2995",
   "metadata": {},
   "outputs": [
    {
     "ename": "TypeError",
     "evalue": "unsupported operand type(s) for -: 'str' and 'bool'",
     "output_type": "error",
     "traceback": [
      "\u001b[1;31m---------------------------------------------------------------------------\u001b[0m",
      "\u001b[1;31mTypeError\u001b[0m                                 Traceback (most recent call last)",
      "Cell \u001b[1;32mIn[3], line 1\u001b[0m\n\u001b[1;32m----> 1\u001b[0m \u001b[38;5;28mprint\u001b[39m(x5\u001b[38;5;241m-\u001b[39mx4)\n",
      "\u001b[1;31mTypeError\u001b[0m: unsupported operand type(s) for -: 'str' and 'bool'"
     ]
    }
   ],
   "source": [
    "print(x5-x4)"
   ]
  },
  {
   "cell_type": "code",
   "execution_count": 6,
   "id": "2c472de4-d81d-4d7b-990b-ee55c81c67cb",
   "metadata": {},
   "outputs": [
    {
     "name": "stdin",
     "output_type": "stream",
     "text": [
      "Enter an integer number:  5\n",
      "Enter another integer number:  9\n"
     ]
    }
   ],
   "source": [
    "num1 = input(\"Enter an integer number: \")\n",
    "num2 = input(\"Enter another integer number: \")\n"
   ]
  },
  {
   "cell_type": "code",
   "execution_count": 5,
   "id": "a8b58b93-dcfe-41ca-abc4-dfd9d31df5bc",
   "metadata": {},
   "outputs": [
    {
     "name": "stdin",
     "output_type": "stream",
     "text": [
      "Enter an integer number:  7\n",
      "Enter another integer number:  8\n"
     ]
    },
    {
     "name": "stdout",
     "output_type": "stream",
     "text": [
      "The sum: 15\n"
     ]
    }
   ],
   "source": [
    "num1 = int(input(\"Enter an integer number: \"))\n",
    "num2 = int(input(\"Enter another integer number: \"))\n",
    "\n",
    "# Example: adding the numbers\n",
    "sum_result = num1 + num2\n",
    "print(\"The sum:\", sum_result)\n"
   ]
  },
  {
   "cell_type": "code",
   "execution_count": 7,
   "id": "0fd27ca6-6c86-40d5-b644-0e72358d952c",
   "metadata": {},
   "outputs": [],
   "source": [
    "x1 = 2\n",
    "x2 = 3\n"
   ]
  },
  {
   "cell_type": "code",
   "execution_count": 8,
   "id": "fcd323da-0482-4371-9765-6f90af35daf3",
   "metadata": {},
   "outputs": [
    {
     "name": "stdout",
     "output_type": "stream",
     "text": [
      "<class 'int'>\n",
      "<class 'int'>\n"
     ]
    }
   ],
   "source": [
    "print(type(x1))  \n",
    "print(type(x2))  \n"
   ]
  },
  {
   "cell_type": "code",
   "execution_count": 9,
   "id": "7880a2bb-b4d9-4ff3-ab7b-ae3aa3ca39ef",
   "metadata": {},
   "outputs": [
    {
     "name": "stdout",
     "output_type": "stream",
     "text": [
      "False\n"
     ]
    }
   ],
   "source": [
    "print(x1 == x2)"
   ]
  },
  {
   "cell_type": "code",
   "execution_count": 10,
   "id": "e8b558d7-8504-413f-abbc-507b1ab71e9f",
   "metadata": {},
   "outputs": [
    {
     "name": "stdout",
     "output_type": "stream",
     "text": [
      "False\n"
     ]
    }
   ],
   "source": [
    "print(x1 > x2)"
   ]
  },
  {
   "cell_type": "code",
   "execution_count": 11,
   "id": "981e7138-f7e4-4a24-be1d-86e14895112d",
   "metadata": {},
   "outputs": [
    {
     "name": "stdout",
     "output_type": "stream",
     "text": [
      "True\n"
     ]
    }
   ],
   "source": [
    "print(x2 > x1)\n"
   ]
  },
  {
   "cell_type": "code",
   "execution_count": 12,
   "id": "6e076351-ee8c-45e2-811a-58c25d275036",
   "metadata": {},
   "outputs": [
    {
     "name": "stdout",
     "output_type": "stream",
     "text": [
      "True\n"
     ]
    }
   ],
   "source": [
    "print(x1 != x2)"
   ]
  },
  {
   "cell_type": "code",
   "execution_count": 13,
   "id": "c8f2ab9e-0658-4d13-88dc-908916b77275",
   "metadata": {},
   "outputs": [
    {
     "name": "stdout",
     "output_type": "stream",
     "text": [
      "x3 = 1\n"
     ]
    }
   ],
   "source": [
    "x3 = abs(x1 - x2)  \n",
    "print(\"x3 =\", x3)  \n"
   ]
  },
  {
   "cell_type": "code",
   "execution_count": 16,
   "id": "6616e715-4911-4fb5-9df9-b94cc02743dc",
   "metadata": {},
   "outputs": [
    {
     "name": "stdout",
     "output_type": "stream",
     "text": [
      "1\n"
     ]
    }
   ],
   "source": [
    "if x1 < x2:\n",
    "    x1 += x3\n",
    "else:\n",
    "    x2 += x3\n",
    "print(x3)"
   ]
  },
  {
   "cell_type": "code",
   "execution_count": 15,
   "id": "726e208c-c5b5-4ab7-8a15-c5cfebf850d3",
   "metadata": {},
   "outputs": [
    {
     "name": "stdout",
     "output_type": "stream",
     "text": [
      "x1 = 3\n",
      "x2 = 3\n",
      "True\n"
     ]
    }
   ],
   "source": [
    "print(\"x1 =\", x1)  \n",
    "print(\"x2 =\", x2)  \n",
    "print(x1 == x2)\n"
   ]
  },
  {
   "cell_type": "code",
   "execution_count": null,
   "id": "fb911d26-bb37-47bf-9e08-519640274012",
   "metadata": {},
   "outputs": [],
   "source": []
  }
 ],
 "metadata": {
  "kernelspec": {
   "display_name": "Python 3 (ipykernel)",
   "language": "python",
   "name": "python3"
  },
  "language_info": {
   "codemirror_mode": {
    "name": "ipython",
    "version": 3
   },
   "file_extension": ".py",
   "mimetype": "text/x-python",
   "name": "python",
   "nbconvert_exporter": "python",
   "pygments_lexer": "ipython3",
   "version": "3.11.7"
  }
 },
 "nbformat": 4,
 "nbformat_minor": 5
}
