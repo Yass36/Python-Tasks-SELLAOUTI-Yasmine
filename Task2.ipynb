{
 "cells": [
  {
   "cell_type": "code",
   "execution_count": 2,
   "id": "cb50dea2-602d-42c5-98a7-e7a94491548d",
   "metadata": {},
   "outputs": [
    {
     "name": "stdin",
     "output_type": "stream",
     "text": [
      "Enter the base number a:  9\n",
      "Enter the exponent/modulus number b:  4\n"
     ]
    },
    {
     "name": "stdout",
     "output_type": "stream",
     "text": [
      "a^b = 6561\n",
      "a % b = 1\n"
     ]
    }
   ],
   "source": [
    "a = int(input(\"Enter the base number a: \"))\n",
    "b = int(input(\"Enter the exponent/modulus number b: \"))\n",
    "\n",
    "power = a ** b      \n",
    "modulus = a % b     \n",
    "\n",
    "print(\"a^b =\", power)\n",
    "print(\"a % b =\", modulus)\n"
   ]
  },
  {
   "cell_type": "code",
   "execution_count": 3,
   "id": "ea12042b-06be-49e3-b8e8-fa0eb5b316cb",
   "metadata": {},
   "outputs": [
    {
     "name": "stdin",
     "output_type": "stream",
     "text": [
      "Enter X:  9\n",
      "Enter Y:  2\n"
     ]
    },
    {
     "name": "stdout",
     "output_type": "stream",
     "text": [
      "a / b = 4.5\n",
      "a // b = 4\n"
     ]
    }
   ],
   "source": [
    "x = int(input(\"Enter X: \"))\n",
    "y = int(input(\"Enter Y: \"))\n",
    "\n",
    "div1 = x / y       \n",
    "div2 = x // y    \n",
    "\n",
    "print(\"a / b =\", div1)\n",
    "print(\"a // b =\", div2)\n"
   ]
  },
  {
   "cell_type": "code",
   "execution_count": 5,
   "id": "8242a8a6-1368-494f-b084-1635d6a112af",
   "metadata": {},
   "outputs": [
    {
     "name": "stdin",
     "output_type": "stream",
     "text": [
      "Enter first integer x:  5\n",
      "Enter second integer y:  8\n"
     ]
    },
    {
     "name": "stdout",
     "output_type": "stream",
     "text": [
      "x & y  = 0\n",
      "x | y  = 13\n",
      "x ^ y  = 13\n",
      "~x     = -10\n",
      "~x     = -5\n",
      "x << 1 = 18\n",
      "x >> 1 = 2\n"
     ]
    }
   ],
   "source": [
    "x = int(input(\"Enter first integer x: \"))\n",
    "y = int(input(\"Enter second integer y: \"))\n",
    "\n",
    "print(\"x & y  =\", a & b)\n",
    "print(\"x | y  =\", a | b)\n",
    "print(\"x ^ y  =\", a ^ b)\n",
    "print(\"~x     =\", ~a)\n",
    "print(\"~x     =\", ~b)\n",
    "print(\"x << 1 =\", a << 1)\n",
    "print(\"x >> 1 =\", b >> 1)\n"
   ]
  },
  {
   "cell_type": "code",
   "execution_count": 8,
   "id": "6e6d6522-989e-4e6e-aa46-dff447eb8fe4",
   "metadata": {},
   "outputs": [
    {
     "name": "stdin",
     "output_type": "stream",
     "text": [
      "Enter a floating-point number:  8.56\n"
     ]
    },
    {
     "name": "stdout",
     "output_type": "stream",
     "text": [
      "math.floor(num)  = 8\n"
     ]
    }
   ],
   "source": [
    "import math\n",
    "\n",
    "num = float(input(\"Enter a floating-point number: \"))\n",
    "\n",
    "print(\"math.floor(num)  =\", math.floor(num))\n",
    "\n"
   ]
  },
  {
   "cell_type": "code",
   "execution_count": 9,
   "id": "86551e81-d051-481f-9a48-a6e84db5d9ea",
   "metadata": {},
   "outputs": [
    {
     "name": "stdout",
     "output_type": "stream",
     "text": [
      "math.ceil(num)= 9\n"
     ]
    }
   ],
   "source": [
    "print(\"math.ceil(num)=\", math.ceil(num))\n"
   ]
  },
  {
   "cell_type": "code",
   "execution_count": 10,
   "id": "ea6e693a-96f6-4a14-8da7-d5e23020191a",
   "metadata": {},
   "outputs": [
    {
     "name": "stdout",
     "output_type": "stream",
     "text": [
      "round(num)= 9\n"
     ]
    }
   ],
   "source": [
    "print(\"round(num)=\", round(num))"
   ]
  },
  {
   "cell_type": "code",
   "execution_count": 11,
   "id": "faeddf2b-36a9-4f94-b044-29be56717978",
   "metadata": {},
   "outputs": [
    {
     "name": "stdout",
     "output_type": "stream",
     "text": [
      "Data are just summaries of thousands of stories — tell a few of those stories to help make the data meaningful.\n"
     ]
    }
   ],
   "source": [
    "str_list = ['Data', 'are', 'just', 'summaries', 'of', 'thousands', 'of', 'stories', '—','tell', 'a', 'few', 'of', 'those', 'stories', 'to',  'help', 'make', 'the', 'data', 'meaningful','.']\n",
    "\n",
    "full = ' '.join(str_list[:-1]) + str_list[-1]\n",
    "\n",
    "print(full)\n"
   ]
  },
  {
   "cell_type": "code",
   "execution_count": 12,
   "id": "1f8b35a2-190a-4dbb-821b-00044fcaaccd",
   "metadata": {},
   "outputs": [
    {
     "name": "stdout",
     "output_type": "stream",
     "text": [
      "Grocery list: bananas, bread, brownie mix, broccoli.\n"
     ]
    }
   ],
   "source": [
    "food_list = ['Bananas', 'Chocolate', 'bread', 'diapers', 'Ice Cream', 'Brownie Mix', 'broccoli']\n",
    "\n",
    "b_items = [item.lower() for item in food_list if item.lower().startswith('b')]\n",
    "\n",
    "grocery_list = \"Grocery list: \" + ', '.join(b_items) + '.'\n",
    "\n",
    "print(grocery_list)\n"
   ]
  },
  {
   "cell_type": "code",
   "execution_count": 13,
   "id": "b2cef7d2-b9bc-4d08-9f69-3e9f3e0a1eeb",
   "metadata": {},
   "outputs": [
    {
     "name": "stdout",
     "output_type": "stream",
     "text": [
      "{'some': 2, 'say': 3, 'the': 1, 'world': 1, 'will': 1, 'end': 1, 'in': 2, 'fire': 2, 'ice': 2, 'from': 1, 'what': 1, 'i’ve': 1, 'tasted': 1, 'of': 2, 'desire': 1, 'i': 3, 'hold': 1, 'with': 1, 'those': 1, 'who': 1, 'favor': 1, 'but': 1, 'if': 1, 'it': 1, 'had': 1, 'to': 2, 'perish': 1, 'twice': 1, 'think': 1, 'know': 1, 'enough': 1, 'hate': 1, 'that': 1, 'for': 1, 'destruction': 1, 'is': 1, 'also': 1, 'great': 1, 'and': 1, 'would': 1, 'suffice': 1}\n"
     ]
    }
   ],
   "source": [
    "poem = \"\"\"Some say the world will end in fire,\n",
    "Some say in ice.\n",
    "From what I’ve tasted of desire\n",
    "I hold with those who favor fire.\n",
    "But if it had to perish twice,\n",
    "I think I know enough of hate\n",
    "To say that for destruction ice\n",
    "Is also great\n",
    "And would suffice.\"\"\"\n",
    "\n",
    "clean_poem = poem.replace(',', '').replace('.', '').replace('\\n', ' ').lower()\n",
    "\n",
    "words = clean_poem.split(' ')\n",
    "\n",
    "words = [word for word in words if word.strip() != '']\n",
    "\n",
    "word_freq = {}\n",
    "for word in words:\n",
    "    word_freq[word] = word_freq.get(word, 0) + 1\n",
    "\n",
    "print(word_freq)\n"
   ]
  },
  {
   "cell_type": "code",
   "execution_count": null,
   "id": "662e5470-c111-49f2-a916-e8470eb7598b",
   "metadata": {},
   "outputs": [],
   "source": []
  }
 ],
 "metadata": {
  "kernelspec": {
   "display_name": "Python 3 (ipykernel)",
   "language": "python",
   "name": "python3"
  },
  "language_info": {
   "codemirror_mode": {
    "name": "ipython",
    "version": 3
   },
   "file_extension": ".py",
   "mimetype": "text/x-python",
   "name": "python",
   "nbconvert_exporter": "python",
   "pygments_lexer": "ipython3",
   "version": "3.11.7"
  }
 },
 "nbformat": 4,
 "nbformat_minor": 5
}
