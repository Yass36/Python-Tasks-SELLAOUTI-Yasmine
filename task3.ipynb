{
 "cells": [
  {
   "cell_type": "code",
   "execution_count": 1,
   "id": "06029a2f-101f-4ba9-8faf-923751011c8d",
   "metadata": {},
   "outputs": [
    {
     "name": "stdout",
     "output_type": "stream",
     "text": [
      "('I',)\n",
      "<class 'tuple'>\n"
     ]
    }
   ],
   "source": [
    "tup = (\"I\",)\n",
    "print(tup)\n",
    "print(type(tup))  \n"
   ]
  },
  {
   "cell_type": "code",
   "execution_count": 3,
   "id": "35d2d858-9d22-4fe3-8cfb-5f9dddbda04d",
   "metadata": {},
   "outputs": [
    {
     "name": "stdout",
     "output_type": "stream",
     "text": [
      "('I', 'r', 'o', 'n', 'h', 'a', 'c', 'k')\n"
     ]
    }
   ],
   "source": [
    "tup = (\"I\",)\n",
    "tup = tup + (\"r\", \"o\", \"n\", \"h\", \"a\", \"c\", \"k\")\n",
    "print(tup)\n",
    "# Since tuples are immutable, we cannot use append to add elements to a tuple, instead we must create a new tuple using concatenation\n"
   ]
  },
  {
   "cell_type": "code",
   "execution_count": 4,
   "id": "048dbf40-cec3-46b7-9771-63a1e6e8889c",
   "metadata": {},
   "outputs": [
    {
     "name": "stdout",
     "output_type": "stream",
     "text": [
      "('I', 'r', 'o', 'n', 'h', 'a', 'c', 'k')\n"
     ]
    }
   ],
   "source": [
    "tup = (\"I\",)\n",
    "tup = (\"I\", \"r\", \"o\", \"n\", \"h\", \"a\", \"c\", \"k\")\n",
    "print(tup) \n",
    "# Tuples are immutablewe don't modify the original tuple, we create a new tuple having the same name which it replaces it with a new one\n",
    "\n",
    "\n"
   ]
  },
  {
   "cell_type": "code",
   "execution_count": 5,
   "id": "e4ccdac9-4a93-4a06-97be-1566762f2bb6",
   "metadata": {},
   "outputs": [
    {
     "name": "stdout",
     "output_type": "stream",
     "text": [
      "tup1 = ('I', 'r', 'o', 'n')\n",
      "tup2 = ('h', 'a', 'c', 'k')\n"
     ]
    }
   ],
   "source": [
    "tup = (\"I\", \"r\", \"o\", \"n\", \"h\", \"a\", \"c\", \"k\")\n",
    "tup1 = tup[0:4]  \n",
    "tup2 = tup[-4:] \n",
    "print(\"tup1 =\", tup1)  \n",
    "print(\"tup2 =\", tup2)  "
   ]
  },
  {
   "cell_type": "code",
   "execution_count": 8,
   "id": "2d421280-2344-4f4d-8b80-143eb3a39fa4",
   "metadata": {},
   "outputs": [
    {
     "name": "stdout",
     "output_type": "stream",
     "text": [
      "tup3 = ('I', 'r', 'o', 'n', 'h', 'a', 'c', 'k')\n",
      "Is tup3 equal to tup? True\n"
     ]
    }
   ],
   "source": [
    "tup3 = tup1 + tup2  \n",
    "print(\"tup3 =\", tup3)  \n",
    "print(\"Is tup3 equal to tup?\", tup3 == tup) \n"
   ]
  },
  {
   "cell_type": "code",
   "execution_count": 12,
   "id": "8978c636-f350-4a04-92f9-b8a51189c689",
   "metadata": {},
   "outputs": [
    {
     "name": "stdout",
     "output_type": "stream",
     "text": [
      "Nb in tup1: 4\n",
      "Nb in tup2: 4\n",
      "Sum: 8\n",
      "Nbin tup3: 8\n",
      "Does sum=length of tup3? True\n"
     ]
    }
   ],
   "source": [
    "count_tup1 = len(tup1)\n",
    "count_tup2 = len(tup2)\n",
    "count_tup3 = len(tup3)\n",
    "sum = count_tup1 + count_tup2\n",
    "\n",
    "print(\"Nb in tup1:\", count_tup1)\n",
    "print(\"Nb in tup2:\", count_tup2)\n",
    "print(\"Sum:\", sum)\n",
    "print(\"Nbin tup3:\", count_tup3)\n",
    "print(\"Does sum=length of tup3?\", sum == count_tup3)  \n"
   ]
  },
  {
   "cell_type": "code",
   "execution_count": 13,
   "id": "79097998-ec70-49de-ae41-206bd551cb04",
   "metadata": {},
   "outputs": [
    {
     "name": "stdout",
     "output_type": "stream",
     "text": [
      "The index of 'h' in tup3 is: 4\n"
     ]
    }
   ],
   "source": [
    "print(\"The index of 'h' in tup3 is:\",  tup3.index(\"h\"))"
   ]
  },
  {
   "cell_type": "code",
   "execution_count": 14,
   "id": "1f7b0280-e28a-4421-8e60-a9d5dd23b6a6",
   "metadata": {},
   "outputs": [
    {
     "name": "stdout",
     "output_type": "stream",
     "text": [
      "True\n",
      "False\n",
      "True\n",
      "False\n",
      "False\n"
     ]
    }
   ],
   "source": [
    "letters = [\"a\", \"b\", \"c\", \"d\", \"e\"]\n",
    "for letter in letters:\n",
    "    print(letter in tup3)  "
   ]
  },
  {
   "cell_type": "code",
   "execution_count": null,
   "id": "1a67f4ec-282d-44d8-9f99-3ee77fac8a31",
   "metadata": {},
   "outputs": [],
   "source": []
  }
 ],
 "metadata": {
  "kernelspec": {
   "display_name": "Python 3 (ipykernel)",
   "language": "python",
   "name": "python3"
  },
  "language_info": {
   "codemirror_mode": {
    "name": "ipython",
    "version": 3
   },
   "file_extension": ".py",
   "mimetype": "text/x-python",
   "name": "python",
   "nbconvert_exporter": "python",
   "pygments_lexer": "ipython3",
   "version": "3.11.7"
  }
 },
 "nbformat": 4,
 "nbformat_minor": 5
}
